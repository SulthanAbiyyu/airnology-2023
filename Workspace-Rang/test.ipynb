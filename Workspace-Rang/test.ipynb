{
 "cells": [
  {
   "cell_type": "code",
   "execution_count": 57,
   "metadata": {},
   "outputs": [],
   "source": [
    "import tensorflow as tf\n",
    "from tensorflow.keras import layers\n",
    "import numpy as np\n",
    "from sklearn import datasets\n",
    "import pandas as pd\n",
    "from sklearn.model_selection import train_test_split\n",
    "from sklearn.metrics import classification_report\n",
    "from sklearn.preprocessing import OneHotEncoder"
   ]
  },
  {
   "cell_type": "code",
   "execution_count": 76,
   "metadata": {},
   "outputs": [
    {
     "data": {
      "text/html": [
       "<div>\n",
       "<style scoped>\n",
       "    .dataframe tbody tr th:only-of-type {\n",
       "        vertical-align: middle;\n",
       "    }\n",
       "\n",
       "    .dataframe tbody tr th {\n",
       "        vertical-align: top;\n",
       "    }\n",
       "\n",
       "    .dataframe thead th {\n",
       "        text-align: right;\n",
       "    }\n",
       "</style>\n",
       "<table border=\"1\" class=\"dataframe\">\n",
       "  <thead>\n",
       "    <tr style=\"text-align: right;\">\n",
       "      <th></th>\n",
       "      <th>Species</th>\n",
       "    </tr>\n",
       "  </thead>\n",
       "  <tbody>\n",
       "    <tr>\n",
       "      <th>0</th>\n",
       "      <td>0</td>\n",
       "    </tr>\n",
       "    <tr>\n",
       "      <th>1</th>\n",
       "      <td>0</td>\n",
       "    </tr>\n",
       "    <tr>\n",
       "      <th>2</th>\n",
       "      <td>0</td>\n",
       "    </tr>\n",
       "    <tr>\n",
       "      <th>3</th>\n",
       "      <td>0</td>\n",
       "    </tr>\n",
       "    <tr>\n",
       "      <th>4</th>\n",
       "      <td>0</td>\n",
       "    </tr>\n",
       "    <tr>\n",
       "      <th>...</th>\n",
       "      <td>...</td>\n",
       "    </tr>\n",
       "    <tr>\n",
       "      <th>145</th>\n",
       "      <td>2</td>\n",
       "    </tr>\n",
       "    <tr>\n",
       "      <th>146</th>\n",
       "      <td>2</td>\n",
       "    </tr>\n",
       "    <tr>\n",
       "      <th>147</th>\n",
       "      <td>2</td>\n",
       "    </tr>\n",
       "    <tr>\n",
       "      <th>148</th>\n",
       "      <td>2</td>\n",
       "    </tr>\n",
       "    <tr>\n",
       "      <th>149</th>\n",
       "      <td>2</td>\n",
       "    </tr>\n",
       "  </tbody>\n",
       "</table>\n",
       "<p>150 rows × 1 columns</p>\n",
       "</div>"
      ],
      "text/plain": [
       "     Species\n",
       "0          0\n",
       "1          0\n",
       "2          0\n",
       "3          0\n",
       "4          0\n",
       "..       ...\n",
       "145        2\n",
       "146        2\n",
       "147        2\n",
       "148        2\n",
       "149        2\n",
       "\n",
       "[150 rows x 1 columns]"
      ]
     },
     "execution_count": 76,
     "metadata": {},
     "output_type": "execute_result"
    }
   ],
   "source": [
    "iris = datasets.load_iris()\n",
    "data = pd.DataFrame(data=iris.data, columns=iris.feature_names)\n",
    "target = pd.DataFrame({'Species' : iris.target})\n",
    "target"
   ]
  },
  {
   "cell_type": "code",
   "execution_count": 77,
   "metadata": {},
   "outputs": [],
   "source": [
    "X_train, X_test, y_train, y_test = train_test_split(data, target, test_size=0.2, random_state=101)"
   ]
  },
  {
   "cell_type": "code",
   "execution_count": 86,
   "metadata": {},
   "outputs": [],
   "source": [
    "y_train_encoded = pd.get_dummies(y_train.astype(str))\n",
    "y_test_encoded = pd.get_dummies(y_test.astype(str))"
   ]
  },
  {
   "cell_type": "code",
   "execution_count": 107,
   "metadata": {},
   "outputs": [],
   "source": [
    "inputs = layers.Input(shape=(4,))\n",
    "x = layers.Dense(20, activation='relu') (inputs)\n",
    "x = layers.Dense(20, activation='relu') (x)\n",
    "outputs = layers.Dense(3, activation='softmax') (x)\n",
    "\n",
    "# model = tf.keras.Sequential([\n",
    "#     # layers.Input(shape=(4,)),\n",
    "#     layers.Dense(20, activation='relu'),\n",
    "#     layers.Dense(20, activation='relu'),\n",
    "#     layers.Dense(3, activation='softmax')\n",
    "# ])\n",
    "\n",
    "model = tf.keras.Model(inputs=inputs, outputs=outputs)\n",
    "\n",
    "model.compile(optimizer='adam',\n",
    "              loss='categorical_crossentropy',\n",
    "              metrics=['accuracy'])"
   ]
  },
  {
   "cell_type": "code",
   "execution_count": 108,
   "metadata": {},
   "outputs": [
    {
     "name": "stdout",
     "output_type": "stream",
     "text": [
      "Epoch 1/50\n",
      "4/4 [==============================] - 0s 0s/step - loss: 1.0625 - accuracy: 0.3500\n",
      "Epoch 2/50\n",
      "4/4 [==============================] - 0s 4ms/step - loss: 0.9946 - accuracy: 0.3500\n",
      "Epoch 3/50\n",
      "4/4 [==============================] - 0s 1ms/step - loss: 0.9448 - accuracy: 0.5250\n",
      "Epoch 4/50\n",
      "4/4 [==============================] - 0s 0s/step - loss: 0.9063 - accuracy: 0.6833\n",
      "Epoch 5/50\n",
      "4/4 [==============================] - 0s 3ms/step - loss: 0.8731 - accuracy: 0.6833\n",
      "Epoch 6/50\n",
      "4/4 [==============================] - 0s 1ms/step - loss: 0.8466 - accuracy: 0.6833\n",
      "Epoch 7/50\n",
      "4/4 [==============================] - 0s 2ms/step - loss: 0.8248 - accuracy: 0.6833\n",
      "Epoch 8/50\n",
      "4/4 [==============================] - 0s 999us/step - loss: 0.8049 - accuracy: 0.6917\n",
      "Epoch 9/50\n",
      "4/4 [==============================] - 0s 666us/step - loss: 0.7864 - accuracy: 0.6917\n",
      "Epoch 10/50\n",
      "4/4 [==============================] - 0s 1ms/step - loss: 0.7664 - accuracy: 0.7000\n",
      "Epoch 11/50\n",
      "4/4 [==============================] - 0s 690us/step - loss: 0.7470 - accuracy: 0.6917\n",
      "Epoch 12/50\n",
      "4/4 [==============================] - 0s 0s/step - loss: 0.7261 - accuracy: 0.6917\n",
      "Epoch 13/50\n",
      "4/4 [==============================] - 0s 506us/step - loss: 0.7051 - accuracy: 0.6917\n",
      "Epoch 14/50\n",
      "4/4 [==============================] - 0s 0s/step - loss: 0.6852 - accuracy: 0.6917\n",
      "Epoch 15/50\n",
      "4/4 [==============================] - 0s 0s/step - loss: 0.6665 - accuracy: 0.7000\n",
      "Epoch 16/50\n",
      "4/4 [==============================] - 0s 0s/step - loss: 0.6488 - accuracy: 0.7083\n",
      "Epoch 17/50\n",
      "4/4 [==============================] - 0s 2ms/step - loss: 0.6309 - accuracy: 0.7083\n",
      "Epoch 18/50\n",
      "4/4 [==============================] - 0s 0s/step - loss: 0.6146 - accuracy: 0.7083\n",
      "Epoch 19/50\n",
      "4/4 [==============================] - 0s 4ms/step - loss: 0.5979 - accuracy: 0.7167\n",
      "Epoch 20/50\n",
      "4/4 [==============================] - 0s 0s/step - loss: 0.5822 - accuracy: 0.7500\n",
      "Epoch 21/50\n",
      "4/4 [==============================] - 0s 884us/step - loss: 0.5647 - accuracy: 0.7667\n",
      "Epoch 22/50\n",
      "4/4 [==============================] - 0s 0s/step - loss: 0.5484 - accuracy: 0.7667\n",
      "Epoch 23/50\n",
      "4/4 [==============================] - 0s 417us/step - loss: 0.5316 - accuracy: 0.7583\n",
      "Epoch 24/50\n",
      "4/4 [==============================] - 0s 1ms/step - loss: 0.5166 - accuracy: 0.8167\n",
      "Epoch 25/50\n",
      "4/4 [==============================] - 0s 666us/step - loss: 0.5027 - accuracy: 0.8250\n",
      "Epoch 26/50\n",
      "4/4 [==============================] - 0s 5ms/step - loss: 0.4903 - accuracy: 0.8250\n",
      "Epoch 27/50\n",
      "4/4 [==============================] - 0s 0s/step - loss: 0.4787 - accuracy: 0.8250\n",
      "Epoch 28/50\n",
      "4/4 [==============================] - 0s 7ms/step - loss: 0.4676 - accuracy: 0.8333\n",
      "Epoch 29/50\n",
      "4/4 [==============================] - 0s 0s/step - loss: 0.4583 - accuracy: 0.8583\n",
      "Epoch 30/50\n",
      "4/4 [==============================] - 0s 2ms/step - loss: 0.4484 - accuracy: 0.8667\n",
      "Epoch 31/50\n",
      "4/4 [==============================] - 0s 1ms/step - loss: 0.4394 - accuracy: 0.8667\n",
      "Epoch 32/50\n",
      "4/4 [==============================] - 0s 938us/step - loss: 0.4306 - accuracy: 0.8667\n",
      "Epoch 33/50\n",
      "4/4 [==============================] - 0s 2ms/step - loss: 0.4243 - accuracy: 0.8833\n",
      "Epoch 34/50\n",
      "4/4 [==============================] - 0s 1ms/step - loss: 0.4156 - accuracy: 0.8667\n",
      "Epoch 35/50\n",
      "4/4 [==============================] - 0s 4ms/step - loss: 0.4083 - accuracy: 0.8833\n",
      "Epoch 36/50\n",
      "4/4 [==============================] - 0s 3ms/step - loss: 0.4009 - accuracy: 0.9000\n",
      "Epoch 37/50\n",
      "4/4 [==============================] - 0s 5ms/step - loss: 0.3953 - accuracy: 0.9000\n",
      "Epoch 38/50\n",
      "4/4 [==============================] - 0s 6ms/step - loss: 0.3906 - accuracy: 0.9250\n",
      "Epoch 39/50\n",
      "4/4 [==============================] - 0s 2ms/step - loss: 0.3839 - accuracy: 0.9667\n",
      "Epoch 40/50\n",
      "4/4 [==============================] - 0s 4ms/step - loss: 0.3769 - accuracy: 0.9417\n",
      "Epoch 41/50\n",
      "4/4 [==============================] - 0s 7ms/step - loss: 0.3716 - accuracy: 0.9500\n",
      "Epoch 42/50\n",
      "4/4 [==============================] - 0s 5ms/step - loss: 0.3656 - accuracy: 0.9250\n",
      "Epoch 43/50\n",
      "4/4 [==============================] - 0s 7ms/step - loss: 0.3626 - accuracy: 0.9250\n",
      "Epoch 44/50\n",
      "4/4 [==============================] - 0s 112us/step - loss: 0.3561 - accuracy: 0.9500\n",
      "Epoch 45/50\n",
      "4/4 [==============================] - 0s 6ms/step - loss: 0.3520 - accuracy: 0.9500\n",
      "Epoch 46/50\n",
      "4/4 [==============================] - 0s 4ms/step - loss: 0.3463 - accuracy: 0.9583\n",
      "Epoch 47/50\n",
      "4/4 [==============================] - 0s 361us/step - loss: 0.3422 - accuracy: 0.9583\n",
      "Epoch 48/50\n",
      "4/4 [==============================] - 0s 4ms/step - loss: 0.3370 - accuracy: 0.9667\n",
      "Epoch 49/50\n",
      "4/4 [==============================] - 0s 7ms/step - loss: 0.3327 - accuracy: 0.9667\n",
      "Epoch 50/50\n",
      "4/4 [==============================] - 0s 1ms/step - loss: 0.3284 - accuracy: 0.9667\n"
     ]
    },
    {
     "data": {
      "text/plain": [
       "<keras.callbacks.History at 0x1fbd62bbc10>"
      ]
     },
     "execution_count": 108,
     "metadata": {},
     "output_type": "execute_result"
    }
   ],
   "source": [
    "model.fit(X_train, y_train_encoded, epochs=50)"
   ]
  },
  {
   "cell_type": "code",
   "execution_count": 109,
   "metadata": {},
   "outputs": [
    {
     "name": "stdout",
     "output_type": "stream",
     "text": [
      "WARNING:tensorflow:5 out of the last 7 calls to <function Model.make_predict_function.<locals>.predict_function at 0x000001FBD75729D0> triggered tf.function retracing. Tracing is expensive and the excessive number of tracings could be due to (1) creating @tf.function repeatedly in a loop, (2) passing tensors with different shapes, (3) passing Python objects instead of tensors. For (1), please define your @tf.function outside of the loop. For (2), @tf.function has experimental_relax_shapes=True option that relaxes argument shapes that can avoid unnecessary retracing. For (3), please refer to https://www.tensorflow.org/guide/function#controlling_retracing and https://www.tensorflow.org/api_docs/python/tf/function for  more details.\n"
     ]
    }
   ],
   "source": [
    "y_pred = model.predict(X_test)\n",
    "# report = classification_report(y_test, y_pred)"
   ]
  },
  {
   "cell_type": "code",
   "execution_count": 110,
   "metadata": {},
   "outputs": [
    {
     "data": {
      "text/plain": [
       "array([[9.5023286e-01, 4.8462808e-02, 1.3043541e-03],\n",
       "       [9.4602734e-01, 5.2458636e-02, 1.5139757e-03],\n",
       "       [9.1878670e-01, 7.8121990e-02, 3.0913278e-03],\n",
       "       [1.3781766e-03, 3.1937656e-01, 6.7924529e-01],\n",
       "       [3.3243503e-02, 6.7122769e-01, 2.9552883e-01],\n",
       "       [2.9324831e-03, 3.6361974e-01, 6.3344783e-01],\n",
       "       [3.1968253e-03, 3.4268442e-01, 6.5411884e-01],\n",
       "       [1.5539002e-02, 4.9315536e-01, 4.9130556e-01],\n",
       "       [1.1970425e-03, 2.6496297e-01, 7.3383993e-01],\n",
       "       [9.0545678e-01, 9.0101987e-02, 4.4412636e-03],\n",
       "       [2.4068314e-03, 3.6628395e-01, 6.3130921e-01],\n",
       "       [9.4425601e-01, 5.4033048e-02, 1.7110051e-03],\n",
       "       [9.2555624e-01, 7.1885765e-02, 2.5580015e-03],\n",
       "       [5.3010455e-05, 1.0169169e-01, 8.9825535e-01],\n",
       "       [6.5051168e-03, 4.5173466e-01, 5.4176027e-01],\n",
       "       [4.0494345e-02, 6.5175849e-01, 3.0774716e-01],\n",
       "       [7.2892569e-02, 6.6039830e-01, 2.6670909e-01],\n",
       "       [4.7641762e-02, 6.3249815e-01, 3.1986016e-01],\n",
       "       [9.1263962e-01, 8.2959339e-02, 4.4010542e-03],\n",
       "       [9.3698758e-04, 2.2275475e-01, 7.7630830e-01],\n",
       "       [4.1979719e-02, 5.9626991e-01, 3.6175030e-01],\n",
       "       [9.3883592e-01, 5.9156239e-02, 2.0078239e-03],\n",
       "       [1.6545814e-02, 5.0586653e-01, 4.7758764e-01],\n",
       "       [4.7019143e-02, 6.8357259e-01, 2.6940820e-01],\n",
       "       [4.0045150e-02, 6.4133584e-01, 3.1861904e-01],\n",
       "       [1.4543298e-01, 6.7332202e-01, 1.8124498e-01],\n",
       "       [9.9564567e-02, 6.3015383e-01, 2.7028149e-01],\n",
       "       [8.4502471e-04, 2.3646851e-01, 7.6268643e-01],\n",
       "       [8.9671421e-01, 9.8426573e-02, 4.8591667e-03],\n",
       "       [8.3564740e-01, 1.5308887e-01, 1.1263663e-02]], dtype=float32)"
      ]
     },
     "execution_count": 110,
     "metadata": {},
     "output_type": "execute_result"
    }
   ],
   "source": [
    "y_pred"
   ]
  },
  {
   "cell_type": "code",
   "execution_count": 113,
   "metadata": {},
   "outputs": [
    {
     "name": "stdout",
     "output_type": "stream",
     "text": [
      "Actual: [0 0 0 2 1 2 1 1 2 0 2 0 0 2 2 1 1 1 0 2 1 0 1 1 1 1 1 2 0 0]\n",
      "Predicted: [0 0 0 2 1 2 2 1 2 0 2 0 0 2 2 1 1 1 0 2 1 0 1 1 1 1 1 2 0 0]\n"
     ]
    }
   ],
   "source": [
    "# actual = np.argmax(y_test_encoded,axis=1)\n",
    "predicted = np.argmax(y_pred,axis=1)\n",
    "print(f\"Actual: {y_test.to_numpy().reshape(30,)}\")\n",
    "print(f\"Predicted: {predicted}\")"
   ]
  },
  {
   "cell_type": "code",
   "execution_count": 122,
   "metadata": {},
   "outputs": [],
   "source": [
    "report = classification_report(y_test_encoded.to_numpy().argmax(axis=1), y_pred.argmax(axis=1))"
   ]
  },
  {
   "cell_type": "code",
   "execution_count": 123,
   "metadata": {},
   "outputs": [
    {
     "name": "stdout",
     "output_type": "stream",
     "text": [
      "              precision    recall  f1-score   support\n",
      "\n",
      "           0       1.00      1.00      1.00        10\n",
      "           1       1.00      0.92      0.96        12\n",
      "           2       0.89      1.00      0.94         8\n",
      "\n",
      "    accuracy                           0.97        30\n",
      "   macro avg       0.96      0.97      0.97        30\n",
      "weighted avg       0.97      0.97      0.97        30\n",
      "\n"
     ]
    }
   ],
   "source": [
    "for line in report.split('\\n'):\n",
    "    print(line)"
   ]
  }
 ],
 "metadata": {
  "kernelspec": {
   "display_name": "base",
   "language": "python",
   "name": "python3"
  },
  "language_info": {
   "codemirror_mode": {
    "name": "ipython",
    "version": 3
   },
   "file_extension": ".py",
   "mimetype": "text/x-python",
   "name": "python",
   "nbconvert_exporter": "python",
   "pygments_lexer": "ipython3",
   "version": "3.9.12"
  },
  "orig_nbformat": 4
 },
 "nbformat": 4,
 "nbformat_minor": 2
}

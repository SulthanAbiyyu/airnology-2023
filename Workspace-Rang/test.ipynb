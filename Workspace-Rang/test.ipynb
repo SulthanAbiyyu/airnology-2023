{
 "cells": [
  {
   "cell_type": "code",
   "execution_count": 1,
   "metadata": {},
   "outputs": [],
   "source": [
    "import tensorflow as tf\n",
    "from tensorflow.keras import layers\n",
    "import numpy as np\n",
    "from sklearn import datasets\n",
    "import pandas as pd\n",
    "from sklearn.model_selection import train_test_split\n",
    "from sklearn.metrics import classification_report\n",
    "from sklearn.preprocessing import OneHotEncoder"
   ]
  },
  {
   "cell_type": "code",
   "execution_count": 3,
   "metadata": {},
   "outputs": [
    {
     "data": {
      "text/html": [
       "<div>\n",
       "<style scoped>\n",
       "    .dataframe tbody tr th:only-of-type {\n",
       "        vertical-align: middle;\n",
       "    }\n",
       "\n",
       "    .dataframe tbody tr th {\n",
       "        vertical-align: top;\n",
       "    }\n",
       "\n",
       "    .dataframe thead th {\n",
       "        text-align: right;\n",
       "    }\n",
       "</style>\n",
       "<table border=\"1\" class=\"dataframe\">\n",
       "  <thead>\n",
       "    <tr style=\"text-align: right;\">\n",
       "      <th></th>\n",
       "      <th>sepal length (cm)</th>\n",
       "      <th>sepal width (cm)</th>\n",
       "      <th>petal length (cm)</th>\n",
       "      <th>petal width (cm)</th>\n",
       "    </tr>\n",
       "  </thead>\n",
       "  <tbody>\n",
       "    <tr>\n",
       "      <th>0</th>\n",
       "      <td>5.1</td>\n",
       "      <td>3.5</td>\n",
       "      <td>1.4</td>\n",
       "      <td>0.2</td>\n",
       "    </tr>\n",
       "    <tr>\n",
       "      <th>1</th>\n",
       "      <td>4.9</td>\n",
       "      <td>3.0</td>\n",
       "      <td>1.4</td>\n",
       "      <td>0.2</td>\n",
       "    </tr>\n",
       "    <tr>\n",
       "      <th>2</th>\n",
       "      <td>4.7</td>\n",
       "      <td>3.2</td>\n",
       "      <td>1.3</td>\n",
       "      <td>0.2</td>\n",
       "    </tr>\n",
       "    <tr>\n",
       "      <th>3</th>\n",
       "      <td>4.6</td>\n",
       "      <td>3.1</td>\n",
       "      <td>1.5</td>\n",
       "      <td>0.2</td>\n",
       "    </tr>\n",
       "    <tr>\n",
       "      <th>4</th>\n",
       "      <td>5.0</td>\n",
       "      <td>3.6</td>\n",
       "      <td>1.4</td>\n",
       "      <td>0.2</td>\n",
       "    </tr>\n",
       "    <tr>\n",
       "      <th>...</th>\n",
       "      <td>...</td>\n",
       "      <td>...</td>\n",
       "      <td>...</td>\n",
       "      <td>...</td>\n",
       "    </tr>\n",
       "    <tr>\n",
       "      <th>145</th>\n",
       "      <td>6.7</td>\n",
       "      <td>3.0</td>\n",
       "      <td>5.2</td>\n",
       "      <td>2.3</td>\n",
       "    </tr>\n",
       "    <tr>\n",
       "      <th>146</th>\n",
       "      <td>6.3</td>\n",
       "      <td>2.5</td>\n",
       "      <td>5.0</td>\n",
       "      <td>1.9</td>\n",
       "    </tr>\n",
       "    <tr>\n",
       "      <th>147</th>\n",
       "      <td>6.5</td>\n",
       "      <td>3.0</td>\n",
       "      <td>5.2</td>\n",
       "      <td>2.0</td>\n",
       "    </tr>\n",
       "    <tr>\n",
       "      <th>148</th>\n",
       "      <td>6.2</td>\n",
       "      <td>3.4</td>\n",
       "      <td>5.4</td>\n",
       "      <td>2.3</td>\n",
       "    </tr>\n",
       "    <tr>\n",
       "      <th>149</th>\n",
       "      <td>5.9</td>\n",
       "      <td>3.0</td>\n",
       "      <td>5.1</td>\n",
       "      <td>1.8</td>\n",
       "    </tr>\n",
       "  </tbody>\n",
       "</table>\n",
       "<p>150 rows × 4 columns</p>\n",
       "</div>"
      ],
      "text/plain": [
       "     sepal length (cm)  sepal width (cm)  petal length (cm)  petal width (cm)\n",
       "0                  5.1               3.5                1.4               0.2\n",
       "1                  4.9               3.0                1.4               0.2\n",
       "2                  4.7               3.2                1.3               0.2\n",
       "3                  4.6               3.1                1.5               0.2\n",
       "4                  5.0               3.6                1.4               0.2\n",
       "..                 ...               ...                ...               ...\n",
       "145                6.7               3.0                5.2               2.3\n",
       "146                6.3               2.5                5.0               1.9\n",
       "147                6.5               3.0                5.2               2.0\n",
       "148                6.2               3.4                5.4               2.3\n",
       "149                5.9               3.0                5.1               1.8\n",
       "\n",
       "[150 rows x 4 columns]"
      ]
     },
     "execution_count": 3,
     "metadata": {},
     "output_type": "execute_result"
    }
   ],
   "source": [
    "iris = datasets.load_iris()\n",
    "data = pd.DataFrame(data=iris.data, columns=iris.feature_names)\n",
    "target = pd.DataFrame({'Species' : iris.target})\n",
    "data"
   ]
  },
  {
   "cell_type": "code",
   "execution_count": 4,
   "metadata": {},
   "outputs": [],
   "source": [
    "X_train, X_test, y_train, y_test = train_test_split(data, target, test_size=0.2, random_state=101)"
   ]
  },
  {
   "cell_type": "code",
   "execution_count": 5,
   "metadata": {},
   "outputs": [],
   "source": [
    "y_train_encoded = pd.get_dummies(y_train.astype(str))\n",
    "y_test_encoded = pd.get_dummies(y_test.astype(str))"
   ]
  },
  {
   "cell_type": "code",
   "execution_count": 8,
   "metadata": {},
   "outputs": [],
   "source": [
    "inputs = layers.Input(shape=(4,))\n",
    "x = layers.Dense(20, activation='relu') (inputs)\n",
    "x = layers.Dense(20, activation='relu') (x)\n",
    "outputs = layers.Dense(3, activation='softmax') (x)\n",
    "\n",
    "# model = tf.keras.Sequential([\n",
    "#     # layers.Input(shape=(4,)),\n",
    "#     layers.Dense(20, activation='relu'),\n",
    "#     layers.Dense(20, activation='relu'),\n",
    "#     layers.Dense(3, activation='softmax')\n",
    "# ])\n",
    "\n",
    "model = tf.keras.Model(inputs=inputs, outputs=outputs)\n",
    "\n",
    "model.compile(optimizer='adam',\n",
    "              loss='categorical_crossentropy',\n",
    "              metrics=['accuracy'])"
   ]
  },
  {
   "cell_type": "code",
   "execution_count": 13,
   "metadata": {},
   "outputs": [
    {
     "name": "stdout",
     "output_type": "stream",
     "text": [
      "Epoch 1/50\n",
      "4/4 [==============================] - 0s 1000us/step - loss: 1.0454 - accuracy: 0.4333\n",
      "Epoch 2/50\n",
      "4/4 [==============================] - 0s 2ms/step - loss: 0.9604 - accuracy: 0.4000\n",
      "Epoch 3/50\n",
      "4/4 [==============================] - 0s 3ms/step - loss: 0.9362 - accuracy: 0.3500\n",
      "Epoch 4/50\n",
      "4/4 [==============================] - 0s 0s/step - loss: 0.9100 - accuracy: 0.3500\n",
      "Epoch 5/50\n",
      "4/4 [==============================] - 0s 666us/step - loss: 0.8755 - accuracy: 0.3500\n",
      "Epoch 6/50\n",
      "4/4 [==============================] - 0s 1000us/step - loss: 0.8370 - accuracy: 0.3583\n",
      "Epoch 7/50\n",
      "4/4 [==============================] - 0s 1000us/step - loss: 0.8057 - accuracy: 0.4167\n",
      "Epoch 8/50\n",
      "4/4 [==============================] - 0s 1ms/step - loss: 0.7791 - accuracy: 0.6167\n",
      "Epoch 9/50\n",
      "4/4 [==============================] - 0s 957us/step - loss: 0.7506 - accuracy: 0.8250\n",
      "Epoch 10/50\n",
      "4/4 [==============================] - 0s 4ms/step - loss: 0.7200 - accuracy: 0.9083\n",
      "Epoch 11/50\n",
      "4/4 [==============================] - 0s 2ms/step - loss: 0.6954 - accuracy: 0.9250\n",
      "Epoch 12/50\n",
      "4/4 [==============================] - 0s 3ms/step - loss: 0.6715 - accuracy: 0.9167\n",
      "Epoch 13/50\n",
      "4/4 [==============================] - 0s 3ms/step - loss: 0.6485 - accuracy: 0.9083\n",
      "Epoch 14/50\n",
      "4/4 [==============================] - 0s 2ms/step - loss: 0.6279 - accuracy: 0.9083\n",
      "Epoch 15/50\n",
      "4/4 [==============================] - 0s 667us/step - loss: 0.6076 - accuracy: 0.8917\n",
      "Epoch 16/50\n",
      "4/4 [==============================] - 0s 2ms/step - loss: 0.5882 - accuracy: 0.9167\n",
      "Epoch 17/50\n",
      "4/4 [==============================] - 0s 0s/step - loss: 0.5692 - accuracy: 0.9333\n",
      "Epoch 18/50\n",
      "4/4 [==============================] - 0s 1ms/step - loss: 0.5504 - accuracy: 0.9417\n",
      "Epoch 19/50\n",
      "4/4 [==============================] - 0s 270us/step - loss: 0.5331 - accuracy: 0.9500\n",
      "Epoch 20/50\n",
      "4/4 [==============================] - 0s 3ms/step - loss: 0.5157 - accuracy: 0.9500\n",
      "Epoch 21/50\n",
      "4/4 [==============================] - 0s 480us/step - loss: 0.5002 - accuracy: 0.9500\n",
      "Epoch 22/50\n",
      "4/4 [==============================] - 0s 3ms/step - loss: 0.4847 - accuracy: 0.9500\n",
      "Epoch 23/50\n",
      "4/4 [==============================] - 0s 2ms/step - loss: 0.4714 - accuracy: 0.9500\n",
      "Epoch 24/50\n",
      "4/4 [==============================] - 0s 2ms/step - loss: 0.4584 - accuracy: 0.9500\n",
      "Epoch 25/50\n",
      "4/4 [==============================] - 0s 365us/step - loss: 0.4456 - accuracy: 0.9333\n",
      "Epoch 26/50\n",
      "4/4 [==============================] - 0s 3ms/step - loss: 0.4336 - accuracy: 0.9500\n",
      "Epoch 27/50\n",
      "4/4 [==============================] - 0s 337us/step - loss: 0.4213 - accuracy: 0.9583\n",
      "Epoch 28/50\n",
      "4/4 [==============================] - 0s 2ms/step - loss: 0.4102 - accuracy: 0.9583\n",
      "Epoch 29/50\n",
      "4/4 [==============================] - 0s 0s/step - loss: 0.3991 - accuracy: 0.9500\n",
      "Epoch 30/50\n",
      "4/4 [==============================] - 0s 1ms/step - loss: 0.3897 - accuracy: 0.9500\n",
      "Epoch 31/50\n",
      "4/4 [==============================] - 0s 407us/step - loss: 0.3791 - accuracy: 0.9583\n",
      "Epoch 32/50\n",
      "4/4 [==============================] - 0s 1ms/step - loss: 0.3697 - accuracy: 0.9583\n",
      "Epoch 33/50\n",
      "4/4 [==============================] - 0s 346us/step - loss: 0.3615 - accuracy: 0.9583\n",
      "Epoch 34/50\n",
      "4/4 [==============================] - 0s 2ms/step - loss: 0.3523 - accuracy: 0.9583\n",
      "Epoch 35/50\n",
      "4/4 [==============================] - 0s 2ms/step - loss: 0.3440 - accuracy: 0.9583\n",
      "Epoch 36/50\n",
      "4/4 [==============================] - 0s 0s/step - loss: 0.3364 - accuracy: 0.9583\n",
      "Epoch 37/50\n",
      "4/4 [==============================] - 0s 2ms/step - loss: 0.3305 - accuracy: 0.9583\n",
      "Epoch 38/50\n",
      "4/4 [==============================] - 0s 0s/step - loss: 0.3218 - accuracy: 0.9583\n",
      "Epoch 39/50\n",
      "4/4 [==============================] - 0s 1ms/step - loss: 0.3144 - accuracy: 0.9583\n",
      "Epoch 40/50\n",
      "4/4 [==============================] - 0s 874us/step - loss: 0.3078 - accuracy: 0.9667\n",
      "Epoch 41/50\n",
      "4/4 [==============================] - 0s 2ms/step - loss: 0.3014 - accuracy: 0.9667\n",
      "Epoch 42/50\n",
      "4/4 [==============================] - 0s 2ms/step - loss: 0.2954 - accuracy: 0.9667\n",
      "Epoch 43/50\n",
      "4/4 [==============================] - 0s 2ms/step - loss: 0.2894 - accuracy: 0.9667\n",
      "Epoch 44/50\n",
      "4/4 [==============================] - 0s 2ms/step - loss: 0.2842 - accuracy: 0.9667\n",
      "Epoch 45/50\n",
      "4/4 [==============================] - 0s 2ms/step - loss: 0.2783 - accuracy: 0.9667\n",
      "Epoch 46/50\n",
      "4/4 [==============================] - 0s 641us/step - loss: 0.2728 - accuracy: 0.9667\n",
      "Epoch 47/50\n",
      "4/4 [==============================] - 0s 2ms/step - loss: 0.2673 - accuracy: 0.9667\n",
      "Epoch 48/50\n",
      "4/4 [==============================] - 0s 1ms/step - loss: 0.2631 - accuracy: 0.9667\n",
      "Epoch 49/50\n",
      "4/4 [==============================] - 0s 1ms/step - loss: 0.2584 - accuracy: 0.9667\n",
      "Epoch 50/50\n",
      "4/4 [==============================] - 0s 1ms/step - loss: 0.2529 - accuracy: 0.9667\n"
     ]
    },
    {
     "data": {
      "text/plain": [
       "<keras.callbacks.History at 0x1819573fe80>"
      ]
     },
     "execution_count": 13,
     "metadata": {},
     "output_type": "execute_result"
    }
   ],
   "source": [
    "model.fit(X_train, y_train_encoded, epochs=50)"
   ]
  },
  {
   "cell_type": "code",
   "execution_count": 14,
   "metadata": {},
   "outputs": [],
   "source": [
    "y_pred = model.predict(X_test)\n",
    "# report = classification_report(y_test, y_pred)"
   ]
  },
  {
   "cell_type": "code",
   "execution_count": 15,
   "metadata": {},
   "outputs": [
    {
     "data": {
      "text/plain": [
       "array([[9.63324308e-01, 3.55283208e-02, 1.14732678e-03],\n",
       "       [9.57199574e-01, 4.14725393e-02, 1.32786878e-03],\n",
       "       [9.24326301e-01, 7.24800751e-02, 3.19355447e-03],\n",
       "       [5.03851101e-03, 4.12446618e-01, 5.82514882e-01],\n",
       "       [4.28558215e-02, 8.35111499e-01, 1.22032672e-01],\n",
       "       [1.16305836e-02, 3.86211693e-01, 6.02157712e-01],\n",
       "       [1.48126064e-02, 5.36563158e-01, 4.48624253e-01],\n",
       "       [3.63452248e-02, 6.18157625e-01, 3.45497102e-01],\n",
       "       [6.63803564e-03, 2.72560179e-01, 7.20801830e-01],\n",
       "       [8.98567200e-01, 9.71304849e-02, 4.30239970e-03],\n",
       "       [9.01516993e-03, 3.12827975e-01, 6.78156853e-01],\n",
       "       [9.56304908e-01, 4.19749953e-02, 1.72010239e-03],\n",
       "       [9.26850855e-01, 7.08271936e-02, 2.32195714e-03],\n",
       "       [4.86069795e-04, 1.05385900e-01, 8.94128025e-01],\n",
       "       [1.57526191e-02, 3.86421800e-01, 5.97825587e-01],\n",
       "       [5.43072484e-02, 8.06087255e-01, 1.39605552e-01],\n",
       "       [7.63418302e-02, 7.05200970e-01, 2.18457267e-01],\n",
       "       [5.82097061e-02, 6.93291128e-01, 2.48499125e-01],\n",
       "       [9.22759593e-01, 7.27478564e-02, 4.49260557e-03],\n",
       "       [2.74716690e-03, 1.81682646e-01, 8.15570235e-01],\n",
       "       [6.18167147e-02, 7.46504307e-01, 1.91678897e-01],\n",
       "       [9.45913315e-01, 5.22713214e-02, 1.81530323e-03],\n",
       "       [2.68021058e-02, 5.49213946e-01, 4.23983961e-01],\n",
       "       [6.04079887e-02, 8.20799172e-01, 1.18792765e-01],\n",
       "       [5.30994795e-02, 7.75544643e-01, 1.71355814e-01],\n",
       "       [1.51565686e-01, 7.20922053e-01, 1.27512261e-01],\n",
       "       [1.17690086e-01, 7.31775522e-01, 1.50534332e-01],\n",
       "       [3.50991776e-03, 9.04415697e-02, 9.06048477e-01],\n",
       "       [8.64672840e-01, 1.29359826e-01, 5.96738048e-03],\n",
       "       [8.08212876e-01, 1.80570975e-01, 1.12161739e-02]], dtype=float32)"
      ]
     },
     "execution_count": 15,
     "metadata": {},
     "output_type": "execute_result"
    }
   ],
   "source": [
    "y_pred"
   ]
  },
  {
   "cell_type": "code",
   "execution_count": 16,
   "metadata": {},
   "outputs": [
    {
     "name": "stdout",
     "output_type": "stream",
     "text": [
      "Actual: [0 0 0 2 1 2 1 1 2 0 2 0 0 2 2 1 1 1 0 2 1 0 1 1 1 1 1 2 0 0]\n",
      "Predicted: [0 0 0 2 1 2 1 1 2 0 2 0 0 2 2 1 1 1 0 2 1 0 1 1 1 1 1 2 0 0]\n"
     ]
    }
   ],
   "source": [
    "# actual = np.argmax(y_test_encoded,axis=1)\n",
    "predicted = np.argmax(y_pred,axis=1)\n",
    "print(f\"Actual: {y_test.to_numpy().reshape(30,)}\")\n",
    "print(f\"Predicted: {predicted}\")"
   ]
  },
  {
   "cell_type": "code",
   "execution_count": 17,
   "metadata": {},
   "outputs": [],
   "source": [
    "report = classification_report(y_test_encoded.to_numpy().argmax(axis=1), y_pred.argmax(axis=1))"
   ]
  },
  {
   "cell_type": "code",
   "execution_count": 19,
   "metadata": {},
   "outputs": [
    {
     "name": "stdout",
     "output_type": "stream",
     "text": [
      "              precision    recall  f1-score   support\n",
      "\n",
      "           0       1.00      1.00      1.00        10\n",
      "           1       1.00      1.00      1.00        12\n",
      "           2       1.00      1.00      1.00         8\n",
      "\n",
      "    accuracy                           1.00        30\n",
      "   macro avg       1.00      1.00      1.00        30\n",
      "weighted avg       1.00      1.00      1.00        30\n",
      "\n"
     ]
    }
   ],
   "source": [
    "for line in report.split('\\n'):\n",
    "    print(line)"
   ]
  }
 ],
 "metadata": {
  "kernelspec": {
   "display_name": "base",
   "language": "python",
   "name": "python3"
  },
  "language_info": {
   "codemirror_mode": {
    "name": "ipython",
    "version": 3
   },
   "file_extension": ".py",
   "mimetype": "text/x-python",
   "name": "python",
   "nbconvert_exporter": "python",
   "pygments_lexer": "ipython3",
   "version": "3.9.12"
  },
  "orig_nbformat": 4
 },
 "nbformat": 4,
 "nbformat_minor": 2
}

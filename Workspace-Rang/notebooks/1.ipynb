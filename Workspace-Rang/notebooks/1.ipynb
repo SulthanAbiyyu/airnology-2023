{
 "cells": [
  {
   "cell_type": "markdown",
   "metadata": {},
   "source": [
    "### Airnology 2023"
   ]
  },
  {
   "cell_type": "markdown",
   "metadata": {},
   "source": [
    "#### Descriptions"
   ]
  },
  {
   "cell_type": "markdown",
   "metadata": {},
   "source": [
    "**datetime**            : Waktu ketika data dihitung (dalam format timestamp UNIX).\n",
    "\n",
    "**datetime_iso**        : Waktu dalam format ISO 8601, termasuk zona waktu.\n",
    "\n",
    "**time-zone**           : Zona waktu dalam detik terhadap UTC.\n",
    "\n",
    "**temp**                : Suhu saat ini dalam Celcius.\n",
    "\n",
    "**visibility**          : Visibilitas rata-rata dalam meter.\n",
    "\n",
    "**d_point**             : Titik embun saat ini dalam Celcius.\n",
    "\n",
    "**feels**               : Suhu yang dirasakan saat ini dalam Celcius.\n",
    "\n",
    "**min_temp**            : Suhu minimum dalam rentang waktu tertentu dalam Celcius.\n",
    "\n",
    "**max_temp**            : Suhu maksimum dalam rentang waktu tertentu dalam Celcius.\n",
    "\n",
    "**pressure**            : Tekanan atmosfer dalam hPa .\n",
    "\n",
    "**sea_level**           : Tekanan atmosfer pada permukaan laut dalam hPa.\n",
    "\n",
    "**grnd_level**          : Tekanan atmosfer pada permukaan tanah dalam hPa.\n",
    "\n",
    "**hum**                 : Persentase kelembaban udara saat ini.\n",
    "\n",
    "**wind_spd**            : Kecepatan angin saat ini dalam m/s.\n",
    "\n",
    "**wind_deg**            : Arah angin dalam derajat.\n",
    "\n",
    "**rain_1h**             : Curah hujan dalam 1 jam terakhir dalam mm. (variabel target)\n",
    "\n",
    "**rain_3h**             : Curah hujan dalam 3 jam terakhir dalam mm.\n",
    "\n",
    "**snow_1h**             : Curah salju dalam 1 jam terakhir dalam mm.\n",
    "\n",
    "**snow_3h**             : Curah salju dalam 3 jam terakhir dalam mm.\n",
    "\n",
    "**clouds**              : Persentase penutupan awan saat ini."
   ]
  },
  {
   "cell_type": "markdown",
   "metadata": {},
   "source": [
    "#### Libraries"
   ]
  },
  {
   "cell_type": "code",
   "execution_count": 17,
   "metadata": {},
   "outputs": [],
   "source": [
    "import pandas as pd\n",
    "import numpy as np\n",
    "\n",
    "import datetime"
   ]
  },
  {
   "cell_type": "markdown",
   "metadata": {},
   "source": [
    "#### Methods"
   ]
  },
  {
   "cell_type": "code",
   "execution_count": 58,
   "metadata": {},
   "outputs": [],
   "source": [
    "def clean_temp(temp) :\n",
    "    if isinstance(temp, str) :\n",
    "        temp = temp.replace(' Celcius', '')\n",
    "        temp = temp.replace(' C', '')\n",
    "        temp = temp.replace('°C', '')\n",
    "    return temp"
   ]
  },
  {
   "cell_type": "markdown",
   "metadata": {},
   "source": [
    "#### Data Overview"
   ]
  },
  {
   "cell_type": "code",
   "execution_count": 3,
   "metadata": {},
   "outputs": [],
   "source": [
    "train = pd.read_csv('../../datasets/train.csv')\n",
    "test = pd.read_csv('../../datasets/test.csv')"
   ]
  },
  {
   "cell_type": "code",
   "execution_count": 12,
   "metadata": {},
   "outputs": [
    {
     "name": "stdout",
     "output_type": "stream",
     "text": [
      "train shape : (341880, 20)\n",
      "test shape : (49368, 19)\n"
     ]
    }
   ],
   "source": [
    "print(f'train shape : {train.shape}')\n",
    "print(f'test shape : {test.shape}')"
   ]
  },
  {
   "cell_type": "markdown",
   "metadata": {},
   "source": [
    "#### Merging train and test"
   ]
  },
  {
   "cell_type": "code",
   "execution_count": 65,
   "metadata": {},
   "outputs": [],
   "source": [
    "# merging train and test data\n",
    "merged = pd.concat([train, test], axis = 0).reset_index(drop=True) \n",
    "merged.drop('datetime', axis=1, inplace=True)\n",
    "\n",
    "# converting temp datatypes\n",
    "for column in ['temp','d_point','feels','min_temp','max_temp'] :\n",
    "    merged[column] = merged[column].apply(lambda x: clean_temp(x))\n",
    "    merged[column] = merged[column].astype('float64')\n"
   ]
  },
  {
   "cell_type": "code",
   "execution_count": 66,
   "metadata": {},
   "outputs": [
    {
     "name": "stdout",
     "output_type": "stream",
     "text": [
      "<class 'pandas.core.frame.DataFrame'>\n",
      "RangeIndex: 391248 entries, 0 to 391247\n",
      "Data columns (total 19 columns):\n",
      " #   Column        Non-Null Count   Dtype  \n",
      "---  ------        --------------   -----  \n",
      " 0   datetime_iso  391248 non-null  object \n",
      " 1   time-zone     391248 non-null  int64  \n",
      " 2   temp          391248 non-null  float64\n",
      " 3   visibility    58645 non-null   object \n",
      " 4   d_point       391247 non-null  float64\n",
      " 5   feels         391248 non-null  float64\n",
      " 6   min_temp      391248 non-null  float64\n",
      " 7   max_temp      391248 non-null  float64\n",
      " 8   prssr         391248 non-null  object \n",
      " 9   sea_level     220658 non-null  object \n",
      " 10  grnd_level    220785 non-null  object \n",
      " 11  hum           391248 non-null  object \n",
      " 12  wind_spd      391248 non-null  object \n",
      " 13  wind_deg      391248 non-null  object \n",
      " 14  rain_1h       341880 non-null  object \n",
      " 15  rain_3h       220170 non-null  object \n",
      " 16  snow_1h       220362 non-null  object \n",
      " 17  snow_3h       220502 non-null  object \n",
      " 18  clouds        391248 non-null  object \n",
      "dtypes: float64(5), int64(1), object(13)\n",
      "memory usage: 56.7+ MB\n"
     ]
    }
   ],
   "source": [
    "merged.info()"
   ]
  }
 ],
 "metadata": {
  "kernelspec": {
   "display_name": "base",
   "language": "python",
   "name": "python3"
  },
  "language_info": {
   "codemirror_mode": {
    "name": "ipython",
    "version": 3
   },
   "file_extension": ".py",
   "mimetype": "text/x-python",
   "name": "python",
   "nbconvert_exporter": "python",
   "pygments_lexer": "ipython3",
   "version": "3.9.7"
  },
  "orig_nbformat": 4
 },
 "nbformat": 4,
 "nbformat_minor": 2
}

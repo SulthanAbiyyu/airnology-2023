{
 "cells": [
  {
   "cell_type": "code",
   "execution_count": 1,
   "metadata": {},
   "outputs": [
    {
     "name": "stderr",
     "output_type": "stream",
     "text": [
      "d:\\Python\\lib\\site-packages\\numpy\\_distributor_init.py:30: UserWarning: loaded more than 1 DLL from .libs:\n",
      "d:\\Python\\lib\\site-packages\\numpy\\.libs\\libopenblas.FB5AE2TYXYH2IJRDKGDGQ3XBKLKTF43H.gfortran-win_amd64.dll\n",
      "d:\\Python\\lib\\site-packages\\numpy\\.libs\\libopenblas64__v0.3.23-246-g3d31191b-gcc_10_3_0.dll\n",
      "  warnings.warn(\"loaded more than 1 DLL from .libs:\"\n"
     ]
    }
   ],
   "source": [
    "import pandas as pd\n",
    "import numpy as np\n",
    "import matplotlib.pyplot as plt"
   ]
  },
  {
   "cell_type": "code",
   "execution_count": 2,
   "metadata": {},
   "outputs": [],
   "source": [
    "TRAIN_PATH = \"../datasets/train.csv\"\n",
    "TEST_PATH = \"../datasets/test.csv\"\n",
    "SAMPLE_SUBMISSION_PATH = \"../datasets/sample_submission.csv\""
   ]
  },
  {
   "cell_type": "code",
   "execution_count": 3,
   "metadata": {},
   "outputs": [
    {
     "data": {
      "text/html": [
       "<div>\n",
       "<style scoped>\n",
       "    .dataframe tbody tr th:only-of-type {\n",
       "        vertical-align: middle;\n",
       "    }\n",
       "\n",
       "    .dataframe tbody tr th {\n",
       "        vertical-align: top;\n",
       "    }\n",
       "\n",
       "    .dataframe thead th {\n",
       "        text-align: right;\n",
       "    }\n",
       "</style>\n",
       "<table border=\"1\" class=\"dataframe\">\n",
       "  <thead>\n",
       "    <tr style=\"text-align: right;\">\n",
       "      <th></th>\n",
       "      <th>datetime</th>\n",
       "      <th>datetime_iso</th>\n",
       "      <th>time-zone</th>\n",
       "      <th>temp</th>\n",
       "      <th>visibility</th>\n",
       "      <th>d_point</th>\n",
       "      <th>feels</th>\n",
       "      <th>min_temp</th>\n",
       "      <th>max_temp</th>\n",
       "      <th>prssr</th>\n",
       "      <th>sea_level</th>\n",
       "      <th>grnd_level</th>\n",
       "      <th>hum</th>\n",
       "      <th>wind_spd</th>\n",
       "      <th>wind_deg</th>\n",
       "      <th>rain_1h</th>\n",
       "      <th>rain_3h</th>\n",
       "      <th>snow_1h</th>\n",
       "      <th>snow_3h</th>\n",
       "      <th>clouds</th>\n",
       "    </tr>\n",
       "  </thead>\n",
       "  <tbody>\n",
       "    <tr>\n",
       "      <th>0</th>\n",
       "      <td>283996800</td>\n",
       "      <td>1979-01-01 00:00:00+00:00</td>\n",
       "      <td>28800</td>\n",
       "      <td>24.75 Celcius</td>\n",
       "      <td>NaN</td>\n",
       "      <td>23.89  C</td>\n",
       "      <td>25.76 C</td>\n",
       "      <td>24.28</td>\n",
       "      <td>25.22°C</td>\n",
       "      <td>1012</td>\n",
       "      <td>undetermined</td>\n",
       "      <td>NaN</td>\n",
       "      <td>95</td>\n",
       "      <td>0.82</td>\n",
       "      <td>320.0 °</td>\n",
       "      <td>zero</td>\n",
       "      <td>0</td>\n",
       "      <td>NaN</td>\n",
       "      <td>NaN</td>\n",
       "      <td>100</td>\n",
       "    </tr>\n",
       "    <tr>\n",
       "      <th>1</th>\n",
       "      <td>284000400</td>\n",
       "      <td>1979-01-01 01:00:00+00:00</td>\n",
       "      <td>28800</td>\n",
       "      <td>24.58 C</td>\n",
       "      <td>NaN</td>\n",
       "      <td>23.73 C</td>\n",
       "      <td>25.57 C</td>\n",
       "      <td>23.99 C</td>\n",
       "      <td>25.26 C</td>\n",
       "      <td>1012</td>\n",
       "      <td>NaN</td>\n",
       "      <td>NaN</td>\n",
       "      <td>95</td>\n",
       "      <td>0.96 m/s</td>\n",
       "      <td>338.0°</td>\n",
       "      <td>0</td>\n",
       "      <td>0</td>\n",
       "      <td>0</td>\n",
       "      <td>0</td>\n",
       "      <td>100</td>\n",
       "    </tr>\n",
       "    <tr>\n",
       "      <th>2</th>\n",
       "      <td>284004000</td>\n",
       "      <td>1979-01-01 02:00:00+00:00</td>\n",
       "      <td>28800</td>\n",
       "      <td>26.6 Celcius</td>\n",
       "      <td>unidentified</td>\n",
       "      <td>24.06 C</td>\n",
       "      <td>26.6 C</td>\n",
       "      <td>26.1 C</td>\n",
       "      <td>27.39</td>\n",
       "      <td>1012</td>\n",
       "      <td>NaN</td>\n",
       "      <td>undetermined</td>\n",
       "      <td>86</td>\n",
       "      <td>1.22 m/s</td>\n",
       "      <td>339.0°</td>\n",
       "      <td>0</td>\n",
       "      <td>volume:zero</td>\n",
       "      <td>NaN</td>\n",
       "      <td>NaN</td>\n",
       "      <td>99</td>\n",
       "    </tr>\n",
       "    <tr>\n",
       "      <th>3</th>\n",
       "      <td>284007600</td>\n",
       "      <td>1979-01-01 03:00:00+00:00</td>\n",
       "      <td>28800</td>\n",
       "      <td>27.31 Celcius</td>\n",
       "      <td>NaN</td>\n",
       "      <td>24.37 C</td>\n",
       "      <td>30.9 C</td>\n",
       "      <td>26.59</td>\n",
       "      <td>28.36 C</td>\n",
       "      <td>1012</td>\n",
       "      <td>NaN</td>\n",
       "      <td>undetermined</td>\n",
       "      <td>84</td>\n",
       "      <td>1.08 m/s</td>\n",
       "      <td>342</td>\n",
       "      <td>0.13</td>\n",
       "      <td>nol</td>\n",
       "      <td>0</td>\n",
       "      <td>NaN</td>\n",
       "      <td>94</td>\n",
       "    </tr>\n",
       "    <tr>\n",
       "      <th>4</th>\n",
       "      <td>284011200</td>\n",
       "      <td>1979-01-01 04:00:00+00:00</td>\n",
       "      <td>28800</td>\n",
       "      <td>27.41</td>\n",
       "      <td>NaN</td>\n",
       "      <td>25.05  C</td>\n",
       "      <td>31.54 C</td>\n",
       "      <td>26.58 C</td>\n",
       "      <td>28.31 °C</td>\n",
       "      <td>1011</td>\n",
       "      <td>NaN</td>\n",
       "      <td>undetermined</td>\n",
       "      <td>87</td>\n",
       "      <td>0.86</td>\n",
       "      <td>336.0°</td>\n",
       "      <td>0.34</td>\n",
       "      <td>nol</td>\n",
       "      <td>NaN</td>\n",
       "      <td>0</td>\n",
       "      <td>100</td>\n",
       "    </tr>\n",
       "  </tbody>\n",
       "</table>\n",
       "</div>"
      ],
      "text/plain": [
       "    datetime               datetime_iso  time-zone           temp  \\\n",
       "0  283996800  1979-01-01 00:00:00+00:00      28800  24.75 Celcius   \n",
       "1  284000400  1979-01-01 01:00:00+00:00      28800        24.58 C   \n",
       "2  284004000  1979-01-01 02:00:00+00:00      28800   26.6 Celcius   \n",
       "3  284007600  1979-01-01 03:00:00+00:00      28800  27.31 Celcius   \n",
       "4  284011200  1979-01-01 04:00:00+00:00      28800          27.41   \n",
       "\n",
       "     visibility   d_point    feels min_temp  max_temp prssr     sea_level  \\\n",
       "0           NaN  23.89  C  25.76 C    24.28   25.22°C  1012  undetermined   \n",
       "1           NaN   23.73 C  25.57 C  23.99 C   25.26 C  1012           NaN   \n",
       "2  unidentified   24.06 C   26.6 C   26.1 C     27.39  1012           NaN   \n",
       "3           NaN   24.37 C   30.9 C    26.59   28.36 C  1012           NaN   \n",
       "4           NaN  25.05  C  31.54 C  26.58 C  28.31 °C  1011           NaN   \n",
       "\n",
       "     grnd_level hum  wind_spd wind_deg rain_1h      rain_3h snow_1h snow_3h  \\\n",
       "0           NaN  95      0.82  320.0 °    zero            0     NaN     NaN   \n",
       "1           NaN  95  0.96 m/s   338.0°       0            0       0       0   \n",
       "2  undetermined  86  1.22 m/s   339.0°       0  volume:zero     NaN     NaN   \n",
       "3  undetermined  84  1.08 m/s      342    0.13          nol       0     NaN   \n",
       "4  undetermined  87      0.86   336.0°    0.34          nol     NaN       0   \n",
       "\n",
       "  clouds  \n",
       "0    100  \n",
       "1    100  \n",
       "2     99  \n",
       "3     94  \n",
       "4    100  "
      ]
     },
     "execution_count": 3,
     "metadata": {},
     "output_type": "execute_result"
    }
   ],
   "source": [
    "train = pd.read_csv(TRAIN_PATH, delimiter=',')\n",
    "train.head()"
   ]
  },
  {
   "attachments": {},
   "cell_type": "markdown",
   "metadata": {},
   "source": [
    "## General"
   ]
  },
  {
   "cell_type": "code",
   "execution_count": 4,
   "metadata": {},
   "outputs": [
    {
     "name": "stdout",
     "output_type": "stream",
     "text": [
      "<class 'pandas.core.frame.DataFrame'>\n",
      "RangeIndex: 341880 entries, 0 to 341879\n",
      "Data columns (total 20 columns):\n",
      " #   Column        Non-Null Count   Dtype \n",
      "---  ------        --------------   ----- \n",
      " 0   datetime      341880 non-null  int64 \n",
      " 1   datetime_iso  341880 non-null  object\n",
      " 2   time-zone     341880 non-null  int64 \n",
      " 3   temp          341880 non-null  object\n",
      " 4   visibility    51112 non-null   object\n",
      " 5   d_point       341880 non-null  object\n",
      " 6   feels         341880 non-null  object\n",
      " 7   min_temp      341880 non-null  object\n",
      " 8   max_temp      341880 non-null  object\n",
      " 9   prssr         341880 non-null  object\n",
      " 10  sea_level     192964 non-null  object\n",
      " 11  grnd_level    192919 non-null  object\n",
      " 12  hum           341880 non-null  object\n",
      " 13  wind_spd      341880 non-null  object\n",
      " 14  wind_deg      341880 non-null  object\n",
      " 15  rain_1h       341880 non-null  object\n",
      " 16  rain_3h       192329 non-null  object\n",
      " 17  snow_1h       192696 non-null  object\n",
      " 18  snow_3h       192699 non-null  object\n",
      " 19  clouds        341880 non-null  object\n",
      "dtypes: int64(2), object(18)\n",
      "memory usage: 52.2+ MB\n"
     ]
    }
   ],
   "source": [
    "train.info()"
   ]
  },
  {
   "cell_type": "code",
   "execution_count": 5,
   "metadata": {},
   "outputs": [
    {
     "data": {
      "text/plain": [
       "0"
      ]
     },
     "execution_count": 5,
     "metadata": {},
     "output_type": "execute_result"
    }
   ],
   "source": [
    "train.duplicated().sum()"
   ]
  },
  {
   "cell_type": "code",
   "execution_count": 6,
   "metadata": {},
   "outputs": [
    {
     "data": {
      "text/plain": [
       "datetime             0\n",
       "datetime_iso         0\n",
       "time-zone            0\n",
       "temp                 0\n",
       "visibility      290768\n",
       "d_point              0\n",
       "feels                0\n",
       "min_temp             0\n",
       "max_temp             0\n",
       "prssr                0\n",
       "sea_level       148916\n",
       "grnd_level      148961\n",
       "hum                  0\n",
       "wind_spd             0\n",
       "wind_deg             0\n",
       "rain_1h              0\n",
       "rain_3h         149551\n",
       "snow_1h         149184\n",
       "snow_3h         149181\n",
       "clouds               0\n",
       "dtype: int64"
      ]
     },
     "execution_count": 6,
     "metadata": {},
     "output_type": "execute_result"
    }
   ],
   "source": [
    "train.isna().sum()"
   ]
  },
  {
   "attachments": {},
   "cell_type": "markdown",
   "metadata": {},
   "source": [
    "## Unique value"
   ]
  },
  {
   "cell_type": "code",
   "execution_count": 7,
   "metadata": {},
   "outputs": [
    {
     "name": "stdout",
     "output_type": "stream",
     "text": [
      "datetime -> nunique: 341880 \n",
      " -> unique val: [ 283996800  284000400  284004000 ... 1514754000 1514757600 1514761200] \n",
      " ----------------- \n",
      "\n",
      "datetime_iso -> nunique: 341880 \n",
      " -> unique val: ['1979-01-01 00:00:00+00:00' '1979-01-01 01:00:00+00:00'\n",
      " '1979-01-01 02:00:00+00:00' ... '2017-12-31 21:00:00+00:00'\n",
      " '2017-12-31 22:00:00+00:00' '2017-12-31 23:00:00+00:00'] \n",
      " ----------------- \n",
      "\n",
      "time-zone -> nunique: 1 \n",
      " -> unique val: [28800] \n",
      " ----------------- \n",
      "\n",
      "temp -> nunique: 9406 \n",
      " -> unique val: ['24.75 Celcius' '24.58 C' '26.6 Celcius' ... '136.06 °C' '33.48 Celcius'\n",
      " '34.32 C'] \n",
      " ----------------- \n",
      "\n",
      "visibility -> nunique: 12 \n",
      " -> unique val: [nan 'unidentified' ' ' '-1m' 'unrecognized' 'unknown' '-1 km' '-1'\n",
      " 'empty' 'undefined' '-1km' '-1 m' 'missing'] \n",
      " ----------------- \n",
      "\n",
      "d_point -> nunique: 6121 \n",
      " -> unique val: ['23.89  C' '23.73 C' '24.06 C' ... '28.13 C' '28.1 Celcius' '126.76°C'] \n",
      " ----------------- \n",
      "\n",
      "feels -> nunique: 10924 \n",
      " -> unique val: ['25.76 C' '25.57 C' '26.6 C' ... '153.97 C' '189.53 C' '33.69 Celcius'] \n",
      " ----------------- \n",
      "\n",
      "min_temp -> nunique: 8347 \n",
      " -> unique val: ['24.28' '23.99 C' '26.1 C' ... '127.26  C' '143.15 °C' '131.18°C'] \n",
      " ----------------- \n",
      "\n",
      "max_temp -> nunique: 9123 \n",
      " -> unique val: ['25.22°C' '25.26 C' '27.39' ... '34.34 Celcius' '177.66' '126.96  C'] \n",
      " ----------------- \n",
      "\n",
      "prssr -> nunique: 111 \n",
      " -> unique val: ['1012' '1011' '1010' '1010.0 hPa' '1009' '1012.0hPa' '1012.0 hPa'\n",
      " '1012.0 hPa.' '1013.0 hPa' '1013' '1011.0 hPa.' '1013.0hPa' '1011.0 hPa'\n",
      " '1008' '1009.0 hPa' '1011.0hPa' '5080.3' '1007' '1008.0 hPa' '1008.0hPa'\n",
      " '1007.0 hPa.' '5090.36' '5085.33' '1013.0 hPa.' '1014.0 hPa.' '1009.0hPa'\n",
      " '1009.0 hPa.' '1010.0 hPa.' '1007.0 hPa' '1008.0 hPa.' '5090.36 hPa.'\n",
      " '5085.33 hPa' '1010.0hPa' '1014' '1015.0 hPa' '1015' '1014.0 hPa'\n",
      " '1015.0 hPa.' '5095.39' '1014.0hPa' '1007.0hPa' '5060.18' '1006' '1005'\n",
      " '1006.0 hPa.' '1006.0 hPa' '5070.24' '5075.27' '5080.3hPa' '5075.27 hPa'\n",
      " '5070.24 hPa' '5065.21hPa' '1006.0hPa' '5065.21' '5080.3 hPa'\n",
      " '1005.0 hPa' '1005.0 hPa.' '5085.33hPa' '5075.27 hPa.' '5090.36 hPa'\n",
      " '1004' '1005.0hPa' '5070.24 hPa.' '5100.42 hPa' '5080.3 hPa.'\n",
      " '5085.33 hPa.' '5060.18 hPa' '5055.15' '5100.42' '1016' '1015.0hPa'\n",
      " '5065.21 hPa.' '5065.21 hPa' '5090.36hPa' '1004.0 hPa.' '5075.27hPa'\n",
      " '1004.0 hPa' '5105.45 hPa' '1016.0hPa' '1016.0 hPa.' '5100.42 hPa.'\n",
      " '1004.0hPa' '5055.15 hPa.' '5070.24hPa' '5095.39 hPa.' '5095.39 hPa'\n",
      " '5095.39hPa' '5105.45 hPa.' '1016.0 hPa' '1017.0 hPa' '1017'\n",
      " '5060.18 hPa.' '5055.15hPa' '1003' '1003.0 hPa.' '1003.0hPa' '1002.0 hPa'\n",
      " '1002' '1003.0 hPa' '5050.12 hPa.' '5050.12' '5060.18hPa' '5105.45'\n",
      " '5100.42hPa' '5050.12hPa' '5045.09' '1017.0hPa' '5115.51' '5055.15 hPa'\n",
      " '1001.0hPa' '1002.0 hPa.'] \n",
      " ----------------- \n",
      "\n",
      "sea_level -> nunique: 9 \n",
      " -> unique val: ['undetermined' nan 'unsettled' 'unestablished' '-1' 'not recorded'\n",
      " 'unknown' 'not_recorded' 'not-recorded' 'unspecified'] \n",
      " ----------------- \n",
      "\n",
      "grnd_level -> nunique: 9 \n",
      " -> unique val: [nan 'undetermined' 'not recorded' 'unspecified' 'unknown' 'not_recorded'\n",
      " '-1' 'unestablished' 'not-recorded' 'unsettled'] \n",
      " ----------------- \n",
      "\n",
      "hum -> nunique: 235 \n",
      " -> unique val: ['95' '86' '84' '87' '83' '77' '85' '92' '98' '99' '99.00%' '497.97' '100'\n",
      " '98.00%' '95.00%' '90' '89' '87.00%' '89.00%' '88' '94' '96' '97' '93'\n",
      " '73' '362.16' '70' '74' '96.00%' '76' '71' '66' '80' '81' '69.00%' '79'\n",
      " '91' '82' '67.00%' '82.00%' '91.00%' '93.00%' '97.00%' '94.00%' '88.00%'\n",
      " '78' '75' '100.00%' '492.94' '73.00%' '72' '90.00%' '417.49' '79.00%'\n",
      " '69' '477.85%' '72.00%' '71.00%' '74.00%' '467.79' '70.00%' '442.64' '64'\n",
      " '61' '60' '63' '84.00%' '80.00%' '377.25' '67' '65' '92.00%' '78.00%'\n",
      " '62' '58' '56' '55' '57' '66.00%' '68' '81.00%' '76.00%' '68.00%'\n",
      " '462.76' '487.91' '83.00%' '482.88' '503' '412.46' '477.85' '75.00%'\n",
      " '85.00%' '472.82' '59' '59.00%' '86.00%' '382.28' '482.88%' '77.00%'\n",
      " '402.4' '497.97%' '492.94%' '452.70%' '462.76%' '387.31%' '65.00%'\n",
      " '60.00%' '352.1' '457.73' '447.67%' '392.34' '427.55' '452.7' '447.67'\n",
      " '437.61' '367.19' '467.79%' '62.00%' '362.16%' '407.43%' '54' '64.00%'\n",
      " '53' '56.00%' '392.34%' '357.13' '422.52' '397.37%' '487.91%' '387.31'\n",
      " '342.04' '55.00%' '54.00%' '397.37' '337.01' '377.25%' '372.22%' '372.22'\n",
      " '63.00%' '61.00%' '347.07' '352.10%' '432.58' '407.43' '402.40%'\n",
      " '417.49%' '437.61%' '331.98' '326.95' '57.00%' '51' '321.92' '382.28%'\n",
      " '58.00%' '271.62' '276.65' '316.89' '442.64%' '52.00%' '50' '51.00%'\n",
      " '306.83' '331.98%' '52' '53.00%' '47' '46' '296.77' '47.00%' '46.00%'\n",
      " '44' '48' '45' '48.00%' '49' '236.41' '221.32' '43' '42' '45.00%' '40'\n",
      " '41' '271.62%' '286.71' '49.00%' '50.00%' '256.53' '39' '301.8' '246.47'\n",
      " '422.52%' '427.55%' '311.86' '472.82%' '347.07%' '457.73%' '357.13%'\n",
      " '342.04%' '432.58%' '367.19%' '412.46%' '311.86%' '316.89%' '281.68'\n",
      " '326.95%' '291.74' '503.00%' '261.56' '266.59' '291.74%' '35' '33' '34'\n",
      " '38' '42.00%' '37.00%' '36' '44.00%' '176.05' '32' '29' '40.00%' '39.00%'\n",
      " '41.00%' '196.17' '201.2' '171.02' '38.00%' '266.59%' '246.47%' '36.00%'\n",
      " '337.01%' '301.80%' '321.92%' '306.83%'] \n",
      " ----------------- \n",
      "\n",
      "wind_spd -> nunique: 2132 \n",
      " -> unique val: ['0.82' '0.96 m/s' '1.22 m/s' ... '12.22m/s' '8.5m/s' '20.02m/s'] \n",
      " ----------------- \n",
      "\n",
      "wind_deg -> nunique: 2132 \n",
      " -> unique val: ['320.0 °' '338.0°' '339.0°' ... '503.0°' '286.71°' '437.61 °'] \n",
      " ----------------- \n",
      "\n",
      "rain_1h -> nunique: 2606 \n",
      " -> unique val: ['zero' '0' '0.13' ... '8.21 mm' '9.53' '9.16 mm'] \n",
      " ----------------- \n",
      "\n",
      "rain_3h -> nunique: 10 \n",
      " -> unique val: ['0' 'volume:zero' 'nol' nan 'zero' '0 mm' '0 milimeter' 'no_rain'\n",
      " 'no-rain' 'volume:0' '0mm'] \n",
      " ----------------- \n",
      "\n",
      "snow_1h -> nunique: 10 \n",
      " -> unique val: [nan '0' 'nol' 'volume:zero' '0mm' '0 mm' 'volume:0' 'zero' '0 milimeter'\n",
      " 'no-snow' 'no_snow'] \n",
      " ----------------- \n",
      "\n",
      "snow_3h -> nunique: 10 \n",
      " -> unique val: [nan '0' 'no-snow' '0 mm' 'zero' 'volume:0' '0mm' 'no_snow' 'volume:zero'\n",
      " '0 milimeter' 'nol'] \n",
      " ----------------- \n",
      "\n",
      "clouds -> nunique: 202 \n",
      " -> unique val: ['100' '99' '94' '95' '97' '92' '87' '100.00%' '98' '99.00%' '91.00%' '78'\n",
      " '80' '85' '91' '93' '77' '82.00%' '74' '45.00%' '45' '41' '46' '47' '40'\n",
      " '39' '27' '61' '53' '59.00%' '57' '62' '35' '50' '71' '83' '84' '67' '23'\n",
      " '19' '42.00%' '82' '96' '98.00%' '97.00%' '96.00%' '90' '73' '79'\n",
      " '89.00%' '70' '60' '55' '88' '76.00%' '89' '26' '31' '59' '68.00%' '66'\n",
      " '69' '94.00%' '93.00%' '72' '85.00%' '86' '32' '80.00%' '90.00%' '81'\n",
      " '30' '56' '49' '65' '87.00%' '38' '17' '0' '26.00%' '24.00%' '24' '48'\n",
      " '52' '64.00%' '58' '43' '9' '2' '3' '1.00%' '0.00%' '1' '10' '68'\n",
      " '70.00%' '69.00%' '92.00%' '95.00%' '63' '78.00%' '49.00%' '18' '12'\n",
      " '32.00%' '15.00%' '86.00%' '38.00%' '21' '25' '8' '28' '51' '44' '81.00%'\n",
      " '29' '84.00%' '21.00%' '79.00%' '42' '54.00%' '76' '83.00%' '54' '71.00%'\n",
      " '37' '52.00%' '46.00%' '66.00%' '88.00%' '64' '55.00%' '75' '65.00%'\n",
      " '58.00%' '74.00%' '62.00%' '20.00%' '34.00%' '75.00%' '34' '31.00%'\n",
      " '67.00%' '63.00%' '22' '36' '33' '43.00%' '60.00%' '14' '29.00%' '72.00%'\n",
      " '44.00%' '56.00%' '16.00%' '53.00%' '11' '13' '14.00%' '48.00%' '33.00%'\n",
      " '27.00%' '37.00%' '77.00%' '36.00%' '15' '16' '39.00%' '51.00%' '28.00%'\n",
      " '73.00%' '41.00%' '50.00%' '47.00%' '30.00%' '25.00%' '20' '18.00%'\n",
      " '7.00%' '6' '5' '22.00%' '61.00%' '40.00%' '17.00%' '35.00%' '57.00%'\n",
      " '23.00%' '19.00%' '4' '10.00%' '9.00%' '11.00%' '3.00%' '7' '5.00%'\n",
      " '8.00%' '12.00%' '2.00%' '4.00%' '6.00%' '13.00%'] \n",
      " ----------------- \n",
      "\n"
     ]
    }
   ],
   "source": [
    "cols = train.columns\n",
    "\n",
    "for col in cols:\n",
    "    print(f\"{col} -> nunique: {train[col].nunique()} \\n -> unique val: {train[col].unique()} \\n ----------------- \\n\")"
   ]
  },
  {
   "attachments": {},
   "cell_type": "markdown",
   "metadata": {},
   "source": [
    "## liat liat kolom"
   ]
  },
  {
   "cell_type": "code",
   "execution_count": 8,
   "metadata": {},
   "outputs": [],
   "source": [
    "train_clean = train.copy()"
   ]
  },
  {
   "cell_type": "code",
   "execution_count": 9,
   "metadata": {},
   "outputs": [],
   "source": [
    "#datetime -> dihapus karena redundant\n",
    "train_clean.drop(columns=[\"datetime\"], inplace=True)"
   ]
  },
  {
   "cell_type": "code",
   "execution_count": 10,
   "metadata": {},
   "outputs": [],
   "source": [
    "# datetime_iso\n",
    "train_clean[\"year\"] = train_clean[\"datetime_iso\"].str.split(\"-\", expand=True)[0]\n",
    "train_clean[\"month\"] = train_clean[\"datetime_iso\"].str.split(\"-\", expand=True)[1]"
   ]
  },
  {
   "cell_type": "code",
   "execution_count": 11,
   "metadata": {},
   "outputs": [],
   "source": [
    "# time-zone\n",
    "train_clean.drop(columns=[\"time-zone\"], inplace=True)"
   ]
  },
  {
   "cell_type": "code",
   "execution_count": 12,
   "metadata": {},
   "outputs": [],
   "source": [
    "# temp\n",
    "train_clean[\"temp\"] = train_clean[\"temp\"].replace({\n",
    "    \"Celcius\": \"\",\n",
    "    \"C\" : \"\",\n",
    "    \"°\" : \"\"\n",
    "}, regex=True).str.strip().astype(\"float\")"
   ]
  },
  {
   "cell_type": "code",
   "execution_count": 13,
   "metadata": {},
   "outputs": [],
   "source": [
    "# visibility\n",
    "train_clean[\"visibility\"] = train_clean[\"visibility\"].replace({\n",
    "    \"-1km\": \"-1000\",\n",
    "    \"-1 km\": \"-1000\",\n",
    "    \"unrecognized\": \"gatau\",\n",
    "    \"unknown\" : \"gatau\",\n",
    "    \"unidentified\": \"gatau\",\n",
    "    \"undefined\": \"gatau\",\n",
    "    \"missing\": \"gatau\",\n",
    "    \"empty\": \"gatau\",\n",
    "    \"m\": \"\",\n",
    "}, regex=True).str.strip().fillna(\"gatau\").replace({\n",
    "        \"\": \"gatau\"\n",
    "    })"
   ]
  },
  {
   "cell_type": "code",
   "execution_count": 14,
   "metadata": {},
   "outputs": [],
   "source": [
    "# d_point\n",
    "train_clean[\"d_point\"] = train_clean[\"d_point\"].replace({\n",
    "    \"Celcius\": \"\",\n",
    "    \"C\": \"\",\n",
    "    \"°\": \"\"\n",
    "}, regex=True).str.strip().astype(\"float\")"
   ]
  },
  {
   "cell_type": "code",
   "execution_count": 15,
   "metadata": {},
   "outputs": [],
   "source": [
    "# feels\n",
    "train_clean[\"feels\"] = train_clean[\"feels\"].replace({\n",
    "    \"Celcius\": \"\",\n",
    "    \"C\": \"\",\n",
    "    \"°\": \"\"\n",
    "}, regex=True).str.strip().astype(\"float\")"
   ]
  },
  {
   "cell_type": "code",
   "execution_count": 16,
   "metadata": {},
   "outputs": [],
   "source": [
    "# min_temp\n",
    "train_clean[\"min_temp\"] = train_clean[\"min_temp\"].replace({\n",
    "    \"Celcius\": \"\",\n",
    "    \"C\": \"\",\n",
    "    \"°\": \"\"\n",
    "}, regex=True).str.strip().astype(\"float\")"
   ]
  },
  {
   "cell_type": "code",
   "execution_count": 17,
   "metadata": {},
   "outputs": [],
   "source": [
    "# max_temp\n",
    "train_clean[\"max_temp\"] = train_clean[\"max_temp\"].replace({\n",
    "    \"Celcius\": \"\",\n",
    "    \"C\": \"\",\n",
    "    \"°\": \"\"\n",
    "}, regex=True).str.strip().astype(\"float\")"
   ]
  },
  {
   "cell_type": "code",
   "execution_count": 18,
   "metadata": {},
   "outputs": [],
   "source": [
    "# prssr\n",
    "train_clean[\"prssr\"] = train_clean[\"prssr\"].replace({\n",
    "    \"hPa\": \"\",\n",
    "    r\"\\s.\": \"\"\n",
    "}, regex=True).str.strip().astype(\"float\")"
   ]
  },
  {
   "cell_type": "code",
   "execution_count": 19,
   "metadata": {},
   "outputs": [],
   "source": [
    "# sea_level -> jujur ini maksudnya apaan coba, gaada semua. -1 hPa itu keknya maksudnya gaada data? sementara hapus aja dulu\n",
    "train_clean[\"sea_level\"].value_counts(), \n",
    "train_clean[\"grnd_level\"].value_counts()\n",
    "\n",
    "train_clean.drop(columns=[\"sea_level\", \"grnd_level\"], inplace=True)"
   ]
  },
  {
   "cell_type": "code",
   "execution_count": 20,
   "metadata": {},
   "outputs": [],
   "source": [
    "# hum\n",
    "train_clean[\"hum\"] = train_clean[\"hum\"].replace({\n",
    "    \"%\": \"\"\n",
    "}, regex=True).str.strip().astype(\"float\")"
   ]
  },
  {
   "cell_type": "code",
   "execution_count": 21,
   "metadata": {},
   "outputs": [],
   "source": [
    "# wind_spd\n",
    "train_clean[\"wind_spd\"] = train_clean[\"wind_spd\"].replace({\n",
    "    \"m/s\": \"\"\n",
    "}, regex=True).str.strip().astype(\"float\")"
   ]
  },
  {
   "cell_type": "code",
   "execution_count": 22,
   "metadata": {},
   "outputs": [],
   "source": [
    "# wind_deg\n",
    "train_clean[\"wind_deg\"] = train_clean[\"wind_deg\"].replace({\n",
    "    \"°\": \"\"\n",
    "}, regex=True).str.strip().astype(\"float\")"
   ]
  },
  {
   "cell_type": "code",
   "execution_count": 23,
   "metadata": {},
   "outputs": [],
   "source": [
    "# rain_1h\n",
    "train_clean[\"rain_1h\"] = train_clean[\"rain_1h\"].replace({\n",
    "    \"mm\" : \"\",\n",
    "    \"zero\": \"0\",\n",
    "    \" \": \"0\"\n",
    "}, regex=True).str.strip().astype(float)"
   ]
  },
  {
   "cell_type": "code",
   "execution_count": 24,
   "metadata": {},
   "outputs": [],
   "source": [
    "# rain_3h -> 0 artinya ga hujan, -1 artinya no inpo\n",
    "train_clean[\"rain_3h\"] = train_clean[\"rain_3h\"].replace({\n",
    "    \"milimeter\": \"\",\n",
    "    \"mm\": \"\",\n",
    "    \"no-rain\": \"0\",\n",
    "    \"volume:0\": \"0\",\n",
    "    \"nol\": \"0\",\n",
    "    \"no_rain\": \"0\",\n",
    "    \"volume:zero\": \"0\",\n",
    "    \"zero\": \"0\",\n",
    "}, regex=True).str.strip().fillna(\"-1\").astype(float)"
   ]
  },
  {
   "cell_type": "code",
   "execution_count": 25,
   "metadata": {},
   "outputs": [],
   "source": [
    "# snow_1h\n",
    "train_clean[\"snow_1h\"] = train_clean[\"snow_1h\"].replace({\n",
    "    \"milimeter\": \"\",\n",
    "    \"mm\": \"\",\n",
    "    \"no-snow\": \"0\",\n",
    "    \"volume:0\": \"0\",\n",
    "    \"nol\": \"0\",\n",
    "    \"no_snow\": \"0\",\n",
    "    \"volume:zero\": \"0\",\n",
    "    \"zero\": \"0\",\n",
    "}, regex=True).str.strip().fillna(\"-1\").astype(float)"
   ]
  },
  {
   "cell_type": "code",
   "execution_count": 26,
   "metadata": {},
   "outputs": [],
   "source": [
    "# snow_3h\n",
    "train_clean[\"snow_3h\"] = train_clean[\"snow_3h\"].replace({\n",
    "    \"milimeter\": \"\",\n",
    "    \"mm\": \"\",\n",
    "    \"no-snow\": \"0\",\n",
    "    \"volume:0\": \"0\",\n",
    "    \"nol\": \"0\",\n",
    "    \"no_snow\": \"0\",\n",
    "    \"volume:zero\": \"0\",\n",
    "    \"zero\": \"0\",\n",
    "}, regex=True).str.strip().fillna(\"-1\").astype(float)"
   ]
  },
  {
   "cell_type": "code",
   "execution_count": 27,
   "metadata": {},
   "outputs": [],
   "source": [
    "# clouds\n",
    "train_clean[\"clouds\"] = train_clean[\"clouds\"].replace({\n",
    "    \"%\": \"\"\n",
    "},regex=True).str.strip().astype(float)"
   ]
  },
  {
   "cell_type": "code",
   "execution_count": 28,
   "metadata": {},
   "outputs": [],
   "source": [
    "train_clean.to_csv(\"../datasets/cleaned/train_clean_Vbiyu.csv\", index=False)"
   ]
  },
  {
   "attachments": {},
   "cell_type": "markdown",
   "metadata": {},
   "source": [
    "## EDA"
   ]
  },
  {
   "cell_type": "code",
   "execution_count": 29,
   "metadata": {},
   "outputs": [
    {
     "data": {
      "text/plain": [
       "<Axes: title={'center': 'Rain 1h per month'}, xlabel='month'>"
      ]
     },
     "execution_count": 29,
     "metadata": {},
     "output_type": "execute_result"
    },
    {
     "data": {
      "image/png": "[encoded data removed]",
      "text/plain": [
       "<Figure size 640x480 with 1 Axes>"
      ]
     },
     "metadata": {},
     "output_type": "display_data"
    }
   ],
   "source": [
    "train_clean[[\"month\", \"rain_1h\"]].groupby(\n",
    "    \"month\").mean()[\"rain_1h\"].plot(kind=\"bar\",  title=\"Rain 1h per month\")"
   ]
  },
  {
   "cell_type": "code",
   "execution_count": 30,
   "metadata": {},
   "outputs": [
    {
     "data": {
      "text/plain": [
       "<Axes: title={'center': 'feels > 80 Celcius'}, ylabel='Frequency'>"
      ]
     },
     "execution_count": 30,
     "metadata": {},
     "output_type": "execute_result"
    },
    {
     "data": {
      "image/png": "[encoded data removed]",
      "text/plain": [
       "<Figure size 640x480 with 1 Axes>"
      ]
     },
     "metadata": {},
     "output_type": "display_data"
    }
   ],
   "source": [
    "train_clean[train_clean[\"feels\"] > 80][\"feels\"].plot(kind=\"hist\", title=\"feels > 80 Celcius\")"
   ]
  },
  {
   "cell_type": "code",
   "execution_count": 31,
   "metadata": {},
   "outputs": [
    {
     "data": {
      "text/plain": [
       "visibility\n",
       "-1       0.345484\n",
       "-1000    0.336436\n",
       "gatau    0.338060\n",
       "Name: rain_1h, dtype: float64"
      ]
     },
     "execution_count": 31,
     "metadata": {},
     "output_type": "execute_result"
    }
   ],
   "source": [
    "train_clean[[\"visibility\", \"rain_1h\"]].groupby(\"visibility\").mean()[\"rain_1h\"]"
   ]
  },
  {
   "cell_type": "code",
   "execution_count": 32,
   "metadata": {},
   "outputs": [
    {
     "data": {
      "text/plain": [
       "<Axes: title={'center': 'Rain 1h per clouds'}, xlabel='clouds'>"
      ]
     },
     "execution_count": 32,
     "metadata": {},
     "output_type": "execute_result"
    },
    {
     "data": {
      "image/png": "[encoded data removed]",
      "text/plain": [
       "<Figure size 640x480 with 1 Axes>"
      ]
     },
     "metadata": {},
     "output_type": "display_data"
    }
   ],
   "source": [
    "train_clean[[\"clouds\", \"rain_1h\"]].groupby(\"clouds\").mean()[\"rain_1h\"].plot(kind=\"line\", title=\"Rain 1h per clouds\")"
   ]
  },
  {
   "cell_type": "code",
   "execution_count": 33,
   "metadata": {},
   "outputs": [
    {
     "data": {
      "text/plain": [
       "<Axes: title={'center': 'Rain 1h per pressure'}, xlabel='prssr'>"
      ]
     },
     "execution_count": 33,
     "metadata": {},
     "output_type": "execute_result"
    },
    {
     "data": {
      "image/png": "[encoded data removed]",
      "text/plain": [
       "<Figure size 640x480 with 1 Axes>"
      ]
     },
     "metadata": {},
     "output_type": "display_data"
    }
   ],
   "source": [
    "train_clean[[\"prssr\", \"rain_1h\"]].groupby(\"prssr\").mean()[\"rain_1h\"].plot(kind=\"bar\", title=\"Rain 1h per pressure\")"
   ]
  },
  {
   "cell_type": "code",
   "execution_count": 34,
   "metadata": {},
   "outputs": [
    {
     "data": {
      "text/plain": [
       "<Axes: title={'center': 'Rain 1h per humidity'}, xlabel='hum'>"
      ]
     },
     "execution_count": 34,
     "metadata": {},
     "output_type": "execute_result"
    },
    {
     "data": {
      "image/png": "[encoded data removed]",
      "text/plain": [
       "<Figure size 640x480 with 1 Axes>"
      ]
     },
     "metadata": {},
     "output_type": "display_data"
    }
   ],
   "source": [
    "train_clean[[\"hum\", \"rain_1h\"]].groupby(\"hum\").mean()[\"rain_1h\"].plot(kind=\"line\", title=\"Rain 1h per humidity\")"
   ]
  },
  {
   "cell_type": "code",
   "execution_count": 53,
   "metadata": {},
   "outputs": [
    {
     "data": {
      "text/plain": [
       "rain_3h\n",
       " 0.0    72995\n",
       "-1.0    56622\n",
       "Name: count, dtype: int64"
      ]
     },
     "execution_count": 53,
     "metadata": {},
     "output_type": "execute_result"
    }
   ],
   "source": [
    "rain_1h_binary = train_clean[\"rain_1h\"].apply(lambda x: 1.0 if x > 0 else 0.0)\n",
    "rain_binary_df = pd.DataFrame({\n",
    "    \"rain_1h_binary\": rain_1h_binary,\n",
    "    \"rain_3h\" : train_clean[\"rain_3h\"],\n",
    "    \"snow_3h\" : train_clean[\"snow_3h\"],\n",
    "    \"snow_1h\" : train_clean[\"snow_1h\"],\n",
    "})\n",
    "\n",
    "rain_binary_df[rain_binary_df[\"rain_1h_binary\"] == 1.0][\"rain_3h\"].value_counts()"
   ]
  },
  {
   "cell_type": "code",
   "execution_count": 54,
   "metadata": {},
   "outputs": [
    {
     "data": {
      "text/plain": [
       "rain_3h\n",
       " 0.0    119334\n",
       "-1.0     92929\n",
       "Name: count, dtype: int64"
      ]
     },
     "execution_count": 54,
     "metadata": {},
     "output_type": "execute_result"
    }
   ],
   "source": [
    "rain_binary_df[rain_binary_df[\"rain_1h_binary\"]\n",
    "               == 0.0][\"rain_3h\"].value_counts()\n"
   ]
  },
  {
   "cell_type": "code",
   "execution_count": 56,
   "metadata": {},
   "outputs": [
    {
     "data": {
      "text/plain": [
       "0.6204680521398229"
      ]
     },
     "execution_count": 56,
     "metadata": {},
     "output_type": "execute_result"
    }
   ],
   "source": [
    "119334 / (119334 + 72995)"
   ]
  },
  {
   "attachments": {},
   "cell_type": "markdown",
   "metadata": {},
   "source": [
    "1. apakah visibility rendah == hujan? nggak\n",
    "2. cari tau kenapa feels ada yg tinggi bgt\n",
    "3. semakin tertutup awannya, semakin tinggi curah hujannya\n",
    "4. pressure menarik, kek ada sweet spotnya\n",
    "5. humidity gaada trend yg jelas\n",
    "6. ternyata yg rain_3h sama snow ketika mereka nggak hujan atau salju, kemungkinan besar rain_1h juga nggak hujan. Kemungkinannya 62%"
   ]
  }
 ],
 "metadata": {
  "kernelspec": {
   "display_name": "Python 3",
   "language": "python",
   "name": "python3"
  },
  "language_info": {
   "codemirror_mode": {
    "name": "ipython",
    "version": 3
   },
   "file_extension": ".py",
   "mimetype": "text/x-python",
   "name": "python",
   "nbconvert_exporter": "python",
   "pygments_lexer": "ipython3",
   "version": "3.10.6"
  },
  "orig_nbformat": 4,
  "vscode": {
   "interpreter": {
    "hash": "2469a70536e4d2335a2ea8907942d0699c37342a371ac185bdb5b0aa6f073890"
   }
  }
 },
 "nbformat": 4,
 "nbformat_minor": 2
}
